{
  "nbformat": 4,
  "nbformat_minor": 0,
  "metadata": {
    "kernelspec": {
      "display_name": "Python 3",
      "language": "python",
      "name": "python3"
    },
    "language_info": {
      "codemirror_mode": {
        "name": "ipython",
        "version": 3
      },
      "file_extension": ".py",
      "mimetype": "text/x-python",
      "name": "python",
      "nbconvert_exporter": "python",
      "pygments_lexer": "ipython3",
      "version": "3.7.7"
    },
    "colab": {
      "name": "Sample.ipynb",
      "provenance": [],
      "include_colab_link": true
    }
  },
  "cells": [
    {
      "cell_type": "markdown",
      "metadata": {
        "id": "view-in-github",
        "colab_type": "text"
      },
      "source": [
        "<a href=\"https://colab.research.google.com/github/uditsans/Project_Euler_Solutions/blob/main/Sample.ipynb\" target=\"_parent\"><img src=\"https://colab.research.google.com/assets/colab-badge.svg\" alt=\"Open In Colab\"/></a>"
      ]
    },
    {
      "cell_type": "markdown",
      "metadata": {
        "id": "zYS3U6aD0E37"
      },
      "source": [
        "# All Libraries to be used in this Assignment"
      ]
    },
    {
      "cell_type": "code",
      "metadata": {
        "id": "-gB7I9yf0E4S"
      },
      "source": [
        "import numpy as np\n",
        "import pandas as pd"
      ],
      "execution_count": null,
      "outputs": []
    },
    {
      "cell_type": "markdown",
      "metadata": {
        "id": "bUzMOe730E4U"
      },
      "source": [
        "## Q1. Given a list of tuples, find the number of occurrences of each tuple in the list."
      ]
    },
    {
      "cell_type": "code",
      "metadata": {
        "id": "m9Ge-qP-0E4V",
        "outputId": "19d83fdf-0459-45de-b2db-ecfec219ba37"
      },
      "source": [
        "list_of_tuples = [(1,2),(3,4),(1,2),(1,3),(1,3,2),(\"Quantiphi\",\"ML\")]\n",
        "\n",
        "occurrences = {tuples:0 for tuples in list_of_tuples}\n",
        "\n",
        "for tuples in list_of_tuples:\n",
        "    occurrences[tuples] += 1\n",
        "    \n",
        "# print(occurrences) ## For printing it as a dictionary\n",
        "\n",
        "for key in occurrences.keys():    \n",
        "    print(key,\"occured\",occurrences[key],\"times.\")"
      ],
      "execution_count": null,
      "outputs": [
        {
          "output_type": "stream",
          "text": [
            "(1, 2) occured 2 times.\n",
            "(3, 4) occured 1 times.\n",
            "(1, 3) occured 1 times.\n",
            "(1, 3, 2) occured 1 times.\n",
            "('Quantiphi', 'ML') occured 1 times.\n"
          ],
          "name": "stdout"
        }
      ]
    },
    {
      "cell_type": "markdown",
      "metadata": {
        "id": "Px4r2zNd0E4Y"
      },
      "source": [
        "## Q2. Create a list of 10 random numbers between 1-100. Create a balanced BST (Binary search tree) from this array"
      ]
    },
    {
      "cell_type": "code",
      "metadata": {
        "id": "bXvLgdNu0E4Z",
        "outputId": "69d89abf-8a05-44d0-cf09-a52dbaf86ed9"
      },
      "source": [
        "class Node(object):\n",
        "    def __init__(self,x):\n",
        "        self.val = x\n",
        "        self.left = None\n",
        "        self.right = None\n",
        "    \n",
        "    \n",
        "def BST(array):\n",
        "    if not array:\n",
        "        return None\n",
        "    mid_index = len(array)//2\n",
        "    \n",
        "    BST_Node = Node(array[mid_index])\n",
        "    BST_Node.left = BST(array[:mid_index])\n",
        "    BST_Node.right = BST(array[(mid_index+1):])\n",
        "    \n",
        "    return BST_Node\n",
        "\n",
        "\n",
        "def Show_BST(node,parent,node_side):\n",
        "    \n",
        "    if not node:\n",
        "        return\n",
        "    \n",
        "    print(node.val,\"is the\",node_side,\"of\",parent)\n",
        "    Show_BST(node.left,node.val,\"left node\")\n",
        "    Show_BST(node.right,node.val,\"right node\")\n",
        "    \n",
        "    \n",
        "random_numbers = np.random.randint(1,100,10)\n",
        "print(\"The random array that is used\", random_numbers,\"\\n\")\n",
        "\n",
        "sorted_array = sorted(random_numbers)\n",
        "Bal_BST = BST(sorted_array)\n",
        "\n",
        "Show_BST(Bal_BST,\"this tree\",'root')"
      ],
      "execution_count": null,
      "outputs": [
        {
          "output_type": "stream",
          "text": [
            "The random array that is used [79 21 38 25  4 19 50  8 86 50] \n",
            "\n",
            "38 is the root of this tree\n",
            "19 is the left node of 38\n",
            "8 is the left node of 19\n",
            "4 is the left node of 8\n",
            "25 is the right node of 19\n",
            "21 is the left node of 25\n",
            "79 is the right node of 38\n",
            "50 is the left node of 79\n",
            "50 is the left node of 50\n",
            "86 is the right node of 79\n"
          ],
          "name": "stdout"
        }
      ]
    },
    {
      "cell_type": "markdown",
      "metadata": {
        "id": "gxWaNDmt0E4a"
      },
      "source": [
        "## Q3. Given a dictionary, create a list of all the keys of the dictionary, which can be formed from the values present in the dictionary."
      ]
    },
    {
      "cell_type": "code",
      "metadata": {
        "id": "0AVvVkuj0E4b",
        "outputId": "011408e6-ba4c-4533-b345-7d1569bed3ce"
      },
      "source": [
        "dictionary = {'black' :'r', 'hero':'e', 'go':'g', 'clue':'i','mean':'q', 'groan':'o',\\\n",
        "              'sin':'p', 'pint':'u', 'tone':'n', 'graze':'s', 'sea':'t', 'plant':'a'}\n",
        "\n",
        "present_in_dictonary = []\n",
        "\n",
        "for key in dictionary.keys():\n",
        "    flag = True\n",
        "    \n",
        "    for letter in key:\n",
        "        if letter not in dictionary.values():\n",
        "            flag = False\n",
        "            break\n",
        "    \n",
        "    if flag:\n",
        "        present_in_dictonary.append(key)\n",
        "        \n",
        "print(\"List of all the keys formed from values in the dictionary:\",present_in_dictonary)"
      ],
      "execution_count": null,
      "outputs": [
        {
          "output_type": "stream",
          "text": [
            "List of all the keys formed from values in the dictionary: ['go', 'groan', 'sin', 'pint', 'tone', 'sea']\n"
          ],
          "name": "stdout"
        }
      ]
    },
    {
      "cell_type": "markdown",
      "metadata": {
        "id": "qVXmNwAk0E4c"
      },
      "source": [
        "## Q4. Given the following list of tuples"
      ]
    },
    {
      "cell_type": "code",
      "metadata": {
        "id": "Md0l2Mob0E4d"
      },
      "source": [
        "listA = [(1,2), (4,3), (2,10), (12, 5), (6, 7), (9,11), (15, 4)]"
      ],
      "execution_count": null,
      "outputs": []
    },
    {
      "cell_type": "markdown",
      "metadata": {
        "id": "TqUd54T50E4e"
      },
      "source": [
        "### 1. Sort the list by 1st item in the tuple in ascending order"
      ]
    },
    {
      "cell_type": "code",
      "metadata": {
        "id": "kThpgjks0E4e",
        "outputId": "28b5e985-1dee-47ae-8d85-8d9cfc9bd1c6"
      },
      "source": [
        "sorted_by_first = sorted(listA, key=lambda tuples: tuples[0])\n",
        "print(\"List when sorted by 1st item in tuple:\",sorted_by_first)"
      ],
      "execution_count": null,
      "outputs": [
        {
          "output_type": "stream",
          "text": [
            "List when sorted by 1st item in tuple: [(1, 2), (2, 10), (4, 3), (6, 7), (9, 11), (12, 5), (15, 4)]\n"
          ],
          "name": "stdout"
        }
      ]
    },
    {
      "cell_type": "markdown",
      "metadata": {
        "id": "LlK41DgV0E4f"
      },
      "source": [
        "### 2. Sort the list by 2nd item in the tuple in ascending order"
      ]
    },
    {
      "cell_type": "code",
      "metadata": {
        "id": "9vAPUfMi0E4g",
        "outputId": "b434824f-861d-4ef2-dfe9-e7f2d0a6a5e0"
      },
      "source": [
        "sorted_by_second = sorted(listA, key=lambda tuples: tuples[1])\n",
        "print(\"List when sorted by 2nd item in tuple:\",sorted_by_second)"
      ],
      "execution_count": null,
      "outputs": [
        {
          "output_type": "stream",
          "text": [
            "List when sorted by 2nd item in tuple: [(1, 2), (4, 3), (15, 4), (12, 5), (6, 7), (2, 10), (9, 11)]\n"
          ],
          "name": "stdout"
        }
      ]
    },
    {
      "cell_type": "markdown",
      "metadata": {
        "id": "KsmeyZPC0E4h"
      },
      "source": [
        "### 3. Sort the list of tuples in descending order"
      ]
    },
    {
      "cell_type": "code",
      "metadata": {
        "id": "TvjLxjgs0E4i",
        "outputId": "790b45f4-aa78-4974-95fd-3eb2ba6c0498"
      },
      "source": [
        "reverse_sorted_first = sorted(listA, key=lambda tuples: tuples[0], reverse = True)\n",
        "print(\"List when reverse sorted by 1st item in tuple:\",reverse_sorted_first)\n",
        "\n",
        "reverse_sorted_second = sorted(listA, key=lambda tuples: tuples[1], reverse = True)\n",
        "print(\"\\nList when reverse sorted by 2nd item in tuple:\",reverse_sorted_second)"
      ],
      "execution_count": null,
      "outputs": [
        {
          "output_type": "stream",
          "text": [
            "List when reverse sorted by 1st item in tuple: [(15, 4), (12, 5), (9, 11), (6, 7), (4, 3), (2, 10), (1, 2)]\n",
            "\n",
            "List when reverse sorted by 2nd item in tuple: [(9, 11), (2, 10), (6, 7), (12, 5), (15, 4), (4, 3), (1, 2)]\n"
          ],
          "name": "stdout"
        }
      ]
    },
    {
      "cell_type": "markdown",
      "metadata": {
        "id": "u4GaBhOt0E4j"
      },
      "source": [
        "## Q5. What do you mean by a mutable and immutable object. Are string, list, tuple, dictionary mutable type objects or immutable objects."
      ]
    },
    {
      "cell_type": "markdown",
      "metadata": {
        "id": "LfItN8zn0E4k"
      },
      "source": [
        "Any object that can be changed/mutated without creating another instance (copy) of it is a mutable object. Those objects that cannot be changed without creating another instance of it are immutable. For example, we can change any item of a list, however this cannot be done with a tuple. \n",
        "\n",
        "In Python, lists and dictionaries are mutable, whereas strings and tuples are immutable."
      ]
    },
    {
      "cell_type": "markdown",
      "metadata": {
        "id": "RhiXMuZy0E4k"
      },
      "source": [
        "## Q6. Learn The usage of Pandas and Numpy"
      ]
    },
    {
      "cell_type": "code",
      "metadata": {
        "id": "WjSk56UP0E4l"
      },
      "source": [
        "dataset = pd.read_csv(\"banking.csv\")"
      ],
      "execution_count": null,
      "outputs": []
    },
    {
      "cell_type": "markdown",
      "metadata": {
        "id": "xApX4ONg0E4l"
      },
      "source": [
        "### 1. Write the command to find unique values in education."
      ]
    },
    {
      "cell_type": "code",
      "metadata": {
        "id": "4jmi2Cj80E4m",
        "outputId": "c8f59af3-cf4a-44ce-eaef-b32f1fe132c7"
      },
      "source": [
        "print(dataset[\"education\"].unique())"
      ],
      "execution_count": null,
      "outputs": [
        {
          "output_type": "stream",
          "text": [
            "['basic.4y' 'unknown' 'university.degree' 'high.school' 'basic.9y'\n",
            " 'professional.course' 'basic.6y' 'illiterate']\n"
          ],
          "name": "stdout"
        }
      ]
    },
    {
      "cell_type": "markdown",
      "metadata": {
        "id": "G6zxvzbf0E4m"
      },
      "source": [
        "### 2. Command to find the number of customers subscribed and not subscribed."
      ]
    },
    {
      "cell_type": "code",
      "metadata": {
        "id": "sO8-K_aN0E4n",
        "outputId": "db6bd63a-06d7-46ea-dcea-215ea72e8731"
      },
      "source": [
        "print(dataset['y'].value_counts())"
      ],
      "execution_count": null,
      "outputs": [
        {
          "output_type": "stream",
          "text": [
            "0    36548\n",
            "1     4640\n",
            "Name: y, dtype: int64\n"
          ],
          "name": "stdout"
        }
      ]
    },
    {
      "cell_type": "markdown",
      "metadata": {
        "id": "Gyh84III0E4n"
      },
      "source": [
        "### 3. Find the mean values of all the independent variables for every ‘y’ (outcome variable)"
      ]
    },
    {
      "cell_type": "code",
      "metadata": {
        "id": "PecgVJxL0E4p",
        "outputId": "56f8df18-9349-40e9-a933-cf5eab4143dc"
      },
      "source": [
        "print(dataset.groupby('y').mean())"
      ],
      "execution_count": null,
      "outputs": [
        {
          "output_type": "stream",
          "text": [
            "         age    duration  campaign       pdays  previous  emp_var_rate  \\\n",
            "y                                                                        \n",
            "0  39.911185  220.844807  2.633085  984.113878  0.132374      0.248875   \n",
            "1  40.913147  553.191164  2.051724  792.035560  0.492672     -1.233448   \n",
            "\n",
            "   cons_price_idx  cons_conf_idx  euribor3m  nr_employed  \n",
            "y                                                         \n",
            "0       93.603757     -40.593097   3.811491  5176.166600  \n",
            "1       93.354386     -39.789784   2.123135  5095.115991  \n"
          ],
          "name": "stdout"
        }
      ]
    },
    {
      "cell_type": "markdown",
      "metadata": {
        "id": "BfBVqFP-0E4s"
      },
      "source": [
        "### 4. What is the mean age for every marital status"
      ]
    },
    {
      "cell_type": "code",
      "metadata": {
        "id": "hJRDfQtH0E4t",
        "outputId": "48be8cf3-de1e-4bf1-9ff8-30463c6ac466"
      },
      "source": [
        "print(dataset.groupby('marital')['age'].mean())"
      ],
      "execution_count": null,
      "outputs": [
        {
          "output_type": "stream",
          "text": [
            "marital\n",
            "divorced    44.899393\n",
            "married     42.307165\n",
            "single      33.158714\n",
            "unknown     40.275000\n",
            "Name: age, dtype: float64\n"
          ],
          "name": "stdout"
        }
      ]
    },
    {
      "cell_type": "markdown",
      "metadata": {
        "id": "gVMFT_EX0E4u"
      },
      "source": [
        "### 5. Check for null values"
      ]
    },
    {
      "cell_type": "code",
      "metadata": {
        "id": "lnkvXel90E4w",
        "outputId": "77e33347-b364-4181-d970-d3f590250390"
      },
      "source": [
        "print(dataset.isnull().sum())"
      ],
      "execution_count": null,
      "outputs": [
        {
          "output_type": "stream",
          "text": [
            "age               0\n",
            "job               0\n",
            "marital           0\n",
            "education         0\n",
            "default           0\n",
            "housing           0\n",
            "loan              0\n",
            "contact           0\n",
            "month             0\n",
            "day_of_week       0\n",
            "duration          0\n",
            "campaign          0\n",
            "pdays             0\n",
            "previous          0\n",
            "poutcome          0\n",
            "emp_var_rate      0\n",
            "cons_price_idx    0\n",
            "cons_conf_idx     0\n",
            "euribor3m         0\n",
            "nr_employed       0\n",
            "y                 0\n",
            "dtype: int64\n"
          ],
          "name": "stdout"
        }
      ]
    },
    {
      "cell_type": "markdown",
      "metadata": {
        "id": "0gjg_2Os0E4x"
      },
      "source": [
        "### 6. Find the descriptive statistics for each column"
      ]
    },
    {
      "cell_type": "markdown",
      "metadata": {
        "id": "Y_ckPxBe0E4x"
      },
      "source": [
        "#### Describing categorical data"
      ]
    },
    {
      "cell_type": "code",
      "metadata": {
        "scrolled": true,
        "id": "iXBX8JUw0E4y",
        "outputId": "0cf39e76-b432-4b1e-e521-81f16b19982e"
      },
      "source": [
        "print(dataset.describe(include=['O']))"
      ],
      "execution_count": null,
      "outputs": [
        {
          "output_type": "stream",
          "text": [
            "           job  marital          education default housing   loan   contact  \\\n",
            "count    41188    41188              41188   41188   41188  41188     41188   \n",
            "unique      12        4                  8       3       3      3         2   \n",
            "top     admin.  married  university.degree      no     yes     no  cellular   \n",
            "freq     10422    24928              12168   32588   21576  33950     26144   \n",
            "\n",
            "        month day_of_week     poutcome  \n",
            "count   41188       41188        41188  \n",
            "unique     10           5            3  \n",
            "top       may         thu  nonexistent  \n",
            "freq    13769        8623        35563  \n"
          ],
          "name": "stdout"
        }
      ]
    },
    {
      "cell_type": "markdown",
      "metadata": {
        "id": "YbZoqTt10E40"
      },
      "source": [
        "#### Describing numerical data"
      ]
    },
    {
      "cell_type": "code",
      "metadata": {
        "scrolled": true,
        "id": "s-D_aDIA0E42",
        "outputId": "d4cf8bfe-a5ed-40b2-c857-d71683674e06"
      },
      "source": [
        "print(dataset.describe())"
      ],
      "execution_count": null,
      "outputs": [
        {
          "output_type": "stream",
          "text": [
            "               age      duration      campaign         pdays      previous  \\\n",
            "count  41188.00000  41188.000000  41188.000000  41188.000000  41188.000000   \n",
            "mean      40.02406    258.285010      2.567593    962.475454      0.172963   \n",
            "std       10.42125    259.279249      2.770014    186.910907      0.494901   \n",
            "min       17.00000      0.000000      1.000000      0.000000      0.000000   \n",
            "25%       32.00000    102.000000      1.000000    999.000000      0.000000   \n",
            "50%       38.00000    180.000000      2.000000    999.000000      0.000000   \n",
            "75%       47.00000    319.000000      3.000000    999.000000      0.000000   \n",
            "max       98.00000   4918.000000     56.000000    999.000000      7.000000   \n",
            "\n",
            "       emp_var_rate  cons_price_idx  cons_conf_idx     euribor3m  \\\n",
            "count  41188.000000    41188.000000   41188.000000  41188.000000   \n",
            "mean       0.081886       93.575664     -40.502600      3.621291   \n",
            "std        1.570960        0.578840       4.628198      1.734447   \n",
            "min       -3.400000       92.201000     -50.800000      0.634000   \n",
            "25%       -1.800000       93.075000     -42.700000      1.344000   \n",
            "50%        1.100000       93.749000     -41.800000      4.857000   \n",
            "75%        1.400000       93.994000     -36.400000      4.961000   \n",
            "max        1.400000       94.767000     -26.900000      5.045000   \n",
            "\n",
            "        nr_employed             y  \n",
            "count  41188.000000  41188.000000  \n",
            "mean    5167.035911      0.112654  \n",
            "std       72.251528      0.316173  \n",
            "min     4963.600000      0.000000  \n",
            "25%     5099.100000      0.000000  \n",
            "50%     5191.000000      0.000000  \n",
            "75%     5228.100000      0.000000  \n",
            "max     5228.100000      1.000000  \n"
          ],
          "name": "stdout"
        }
      ]
    },
    {
      "cell_type": "markdown",
      "metadata": {
        "id": "sg5BZQac0E42"
      },
      "source": [
        "### 7. Use pd.query(), iloc, loc and range subsetting to extract insights from the data. You will be evaluated on the quality of your queries and the rationale behind selecting them. You can extract upto five (5) separate insights from the data."
      ]
    },
    {
      "cell_type": "code",
      "metadata": {
        "id": "giz4Ddxq0E43",
        "outputId": "6ae520c1-cd63-4883-dcb3-fb9e400bb94e"
      },
      "source": [
        "# Information of all the subscribers that also have a loan \n",
        "dataset.query('y == 1 & loan == \"yes\"')"
      ],
      "execution_count": null,
      "outputs": [
        {
          "output_type": "execute_result",
          "data": {
            "text/html": [
              "<div>\n",
              "<style scoped>\n",
              "    .dataframe tbody tr th:only-of-type {\n",
              "        vertical-align: middle;\n",
              "    }\n",
              "\n",
              "    .dataframe tbody tr th {\n",
              "        vertical-align: top;\n",
              "    }\n",
              "\n",
              "    .dataframe thead th {\n",
              "        text-align: right;\n",
              "    }\n",
              "</style>\n",
              "<table border=\"1\" class=\"dataframe\">\n",
              "  <thead>\n",
              "    <tr style=\"text-align: right;\">\n",
              "      <th></th>\n",
              "      <th>age</th>\n",
              "      <th>job</th>\n",
              "      <th>marital</th>\n",
              "      <th>education</th>\n",
              "      <th>default</th>\n",
              "      <th>housing</th>\n",
              "      <th>loan</th>\n",
              "      <th>contact</th>\n",
              "      <th>month</th>\n",
              "      <th>day_of_week</th>\n",
              "      <th>...</th>\n",
              "      <th>campaign</th>\n",
              "      <th>pdays</th>\n",
              "      <th>previous</th>\n",
              "      <th>poutcome</th>\n",
              "      <th>emp_var_rate</th>\n",
              "      <th>cons_price_idx</th>\n",
              "      <th>cons_conf_idx</th>\n",
              "      <th>euribor3m</th>\n",
              "      <th>nr_employed</th>\n",
              "      <th>y</th>\n",
              "    </tr>\n",
              "  </thead>\n",
              "  <tbody>\n",
              "    <tr>\n",
              "      <th>100</th>\n",
              "      <td>33</td>\n",
              "      <td>blue-collar</td>\n",
              "      <td>single</td>\n",
              "      <td>basic.4y</td>\n",
              "      <td>no</td>\n",
              "      <td>yes</td>\n",
              "      <td>yes</td>\n",
              "      <td>cellular</td>\n",
              "      <td>apr</td>\n",
              "      <td>thu</td>\n",
              "      <td>...</td>\n",
              "      <td>1</td>\n",
              "      <td>999</td>\n",
              "      <td>0</td>\n",
              "      <td>nonexistent</td>\n",
              "      <td>-1.8</td>\n",
              "      <td>93.075</td>\n",
              "      <td>-47.1</td>\n",
              "      <td>1.365</td>\n",
              "      <td>5099.1</td>\n",
              "      <td>1</td>\n",
              "    </tr>\n",
              "    <tr>\n",
              "      <th>180</th>\n",
              "      <td>50</td>\n",
              "      <td>self-employed</td>\n",
              "      <td>married</td>\n",
              "      <td>basic.9y</td>\n",
              "      <td>no</td>\n",
              "      <td>yes</td>\n",
              "      <td>yes</td>\n",
              "      <td>cellular</td>\n",
              "      <td>may</td>\n",
              "      <td>mon</td>\n",
              "      <td>...</td>\n",
              "      <td>6</td>\n",
              "      <td>3</td>\n",
              "      <td>1</td>\n",
              "      <td>success</td>\n",
              "      <td>-1.8</td>\n",
              "      <td>92.893</td>\n",
              "      <td>-46.2</td>\n",
              "      <td>1.354</td>\n",
              "      <td>5099.1</td>\n",
              "      <td>1</td>\n",
              "    </tr>\n",
              "    <tr>\n",
              "      <th>287</th>\n",
              "      <td>37</td>\n",
              "      <td>admin.</td>\n",
              "      <td>married</td>\n",
              "      <td>university.degree</td>\n",
              "      <td>no</td>\n",
              "      <td>yes</td>\n",
              "      <td>yes</td>\n",
              "      <td>cellular</td>\n",
              "      <td>jun</td>\n",
              "      <td>mon</td>\n",
              "      <td>...</td>\n",
              "      <td>2</td>\n",
              "      <td>999</td>\n",
              "      <td>0</td>\n",
              "      <td>nonexistent</td>\n",
              "      <td>-2.9</td>\n",
              "      <td>92.963</td>\n",
              "      <td>-40.8</td>\n",
              "      <td>1.266</td>\n",
              "      <td>5076.2</td>\n",
              "      <td>1</td>\n",
              "    </tr>\n",
              "    <tr>\n",
              "      <th>404</th>\n",
              "      <td>30</td>\n",
              "      <td>technician</td>\n",
              "      <td>married</td>\n",
              "      <td>university.degree</td>\n",
              "      <td>no</td>\n",
              "      <td>yes</td>\n",
              "      <td>yes</td>\n",
              "      <td>cellular</td>\n",
              "      <td>jul</td>\n",
              "      <td>mon</td>\n",
              "      <td>...</td>\n",
              "      <td>4</td>\n",
              "      <td>999</td>\n",
              "      <td>0</td>\n",
              "      <td>nonexistent</td>\n",
              "      <td>-1.7</td>\n",
              "      <td>94.215</td>\n",
              "      <td>-40.3</td>\n",
              "      <td>0.870</td>\n",
              "      <td>4991.6</td>\n",
              "      <td>1</td>\n",
              "    </tr>\n",
              "    <tr>\n",
              "      <th>436</th>\n",
              "      <td>29</td>\n",
              "      <td>admin.</td>\n",
              "      <td>single</td>\n",
              "      <td>university.degree</td>\n",
              "      <td>no</td>\n",
              "      <td>yes</td>\n",
              "      <td>yes</td>\n",
              "      <td>cellular</td>\n",
              "      <td>nov</td>\n",
              "      <td>thu</td>\n",
              "      <td>...</td>\n",
              "      <td>1</td>\n",
              "      <td>999</td>\n",
              "      <td>0</td>\n",
              "      <td>nonexistent</td>\n",
              "      <td>-0.1</td>\n",
              "      <td>93.200</td>\n",
              "      <td>-42.0</td>\n",
              "      <td>4.076</td>\n",
              "      <td>5195.8</td>\n",
              "      <td>1</td>\n",
              "    </tr>\n",
              "    <tr>\n",
              "      <th>...</th>\n",
              "      <td>...</td>\n",
              "      <td>...</td>\n",
              "      <td>...</td>\n",
              "      <td>...</td>\n",
              "      <td>...</td>\n",
              "      <td>...</td>\n",
              "      <td>...</td>\n",
              "      <td>...</td>\n",
              "      <td>...</td>\n",
              "      <td>...</td>\n",
              "      <td>...</td>\n",
              "      <td>...</td>\n",
              "      <td>...</td>\n",
              "      <td>...</td>\n",
              "      <td>...</td>\n",
              "      <td>...</td>\n",
              "      <td>...</td>\n",
              "      <td>...</td>\n",
              "      <td>...</td>\n",
              "      <td>...</td>\n",
              "      <td>...</td>\n",
              "    </tr>\n",
              "    <tr>\n",
              "      <th>40895</th>\n",
              "      <td>32</td>\n",
              "      <td>services</td>\n",
              "      <td>single</td>\n",
              "      <td>university.degree</td>\n",
              "      <td>no</td>\n",
              "      <td>no</td>\n",
              "      <td>yes</td>\n",
              "      <td>cellular</td>\n",
              "      <td>may</td>\n",
              "      <td>fri</td>\n",
              "      <td>...</td>\n",
              "      <td>3</td>\n",
              "      <td>999</td>\n",
              "      <td>0</td>\n",
              "      <td>nonexistent</td>\n",
              "      <td>-1.8</td>\n",
              "      <td>93.876</td>\n",
              "      <td>-40.0</td>\n",
              "      <td>0.699</td>\n",
              "      <td>5008.7</td>\n",
              "      <td>1</td>\n",
              "    </tr>\n",
              "    <tr>\n",
              "      <th>40993</th>\n",
              "      <td>57</td>\n",
              "      <td>retired</td>\n",
              "      <td>married</td>\n",
              "      <td>basic.9y</td>\n",
              "      <td>no</td>\n",
              "      <td>yes</td>\n",
              "      <td>yes</td>\n",
              "      <td>cellular</td>\n",
              "      <td>aug</td>\n",
              "      <td>tue</td>\n",
              "      <td>...</td>\n",
              "      <td>4</td>\n",
              "      <td>999</td>\n",
              "      <td>0</td>\n",
              "      <td>nonexistent</td>\n",
              "      <td>1.4</td>\n",
              "      <td>93.444</td>\n",
              "      <td>-36.1</td>\n",
              "      <td>4.965</td>\n",
              "      <td>5228.1</td>\n",
              "      <td>1</td>\n",
              "    </tr>\n",
              "    <tr>\n",
              "      <th>41051</th>\n",
              "      <td>59</td>\n",
              "      <td>admin.</td>\n",
              "      <td>married</td>\n",
              "      <td>unknown</td>\n",
              "      <td>no</td>\n",
              "      <td>no</td>\n",
              "      <td>yes</td>\n",
              "      <td>cellular</td>\n",
              "      <td>sep</td>\n",
              "      <td>mon</td>\n",
              "      <td>...</td>\n",
              "      <td>4</td>\n",
              "      <td>999</td>\n",
              "      <td>1</td>\n",
              "      <td>failure</td>\n",
              "      <td>-3.4</td>\n",
              "      <td>92.379</td>\n",
              "      <td>-29.8</td>\n",
              "      <td>0.797</td>\n",
              "      <td>5017.5</td>\n",
              "      <td>1</td>\n",
              "    </tr>\n",
              "    <tr>\n",
              "      <th>41078</th>\n",
              "      <td>20</td>\n",
              "      <td>student</td>\n",
              "      <td>single</td>\n",
              "      <td>basic.4y</td>\n",
              "      <td>no</td>\n",
              "      <td>yes</td>\n",
              "      <td>yes</td>\n",
              "      <td>cellular</td>\n",
              "      <td>apr</td>\n",
              "      <td>tue</td>\n",
              "      <td>...</td>\n",
              "      <td>4</td>\n",
              "      <td>6</td>\n",
              "      <td>1</td>\n",
              "      <td>success</td>\n",
              "      <td>-1.8</td>\n",
              "      <td>93.749</td>\n",
              "      <td>-34.6</td>\n",
              "      <td>0.644</td>\n",
              "      <td>5008.7</td>\n",
              "      <td>1</td>\n",
              "    </tr>\n",
              "    <tr>\n",
              "      <th>41086</th>\n",
              "      <td>40</td>\n",
              "      <td>self-employed</td>\n",
              "      <td>married</td>\n",
              "      <td>university.degree</td>\n",
              "      <td>unknown</td>\n",
              "      <td>yes</td>\n",
              "      <td>yes</td>\n",
              "      <td>cellular</td>\n",
              "      <td>nov</td>\n",
              "      <td>thu</td>\n",
              "      <td>...</td>\n",
              "      <td>3</td>\n",
              "      <td>999</td>\n",
              "      <td>0</td>\n",
              "      <td>nonexistent</td>\n",
              "      <td>-0.1</td>\n",
              "      <td>93.200</td>\n",
              "      <td>-42.0</td>\n",
              "      <td>4.076</td>\n",
              "      <td>5195.8</td>\n",
              "      <td>1</td>\n",
              "    </tr>\n",
              "  </tbody>\n",
              "</table>\n",
              "<p>683 rows × 21 columns</p>\n",
              "</div>"
            ],
            "text/plain": [
              "       age            job  marital          education  default housing loan  \\\n",
              "100     33    blue-collar   single           basic.4y       no     yes  yes   \n",
              "180     50  self-employed  married           basic.9y       no     yes  yes   \n",
              "287     37         admin.  married  university.degree       no     yes  yes   \n",
              "404     30     technician  married  university.degree       no     yes  yes   \n",
              "436     29         admin.   single  university.degree       no     yes  yes   \n",
              "...    ...            ...      ...                ...      ...     ...  ...   \n",
              "40895   32       services   single  university.degree       no      no  yes   \n",
              "40993   57        retired  married           basic.9y       no     yes  yes   \n",
              "41051   59         admin.  married            unknown       no      no  yes   \n",
              "41078   20        student   single           basic.4y       no     yes  yes   \n",
              "41086   40  self-employed  married  university.degree  unknown     yes  yes   \n",
              "\n",
              "        contact month day_of_week  ...  campaign  pdays  previous  \\\n",
              "100    cellular   apr         thu  ...         1    999         0   \n",
              "180    cellular   may         mon  ...         6      3         1   \n",
              "287    cellular   jun         mon  ...         2    999         0   \n",
              "404    cellular   jul         mon  ...         4    999         0   \n",
              "436    cellular   nov         thu  ...         1    999         0   \n",
              "...         ...   ...         ...  ...       ...    ...       ...   \n",
              "40895  cellular   may         fri  ...         3    999         0   \n",
              "40993  cellular   aug         tue  ...         4    999         0   \n",
              "41051  cellular   sep         mon  ...         4    999         1   \n",
              "41078  cellular   apr         tue  ...         4      6         1   \n",
              "41086  cellular   nov         thu  ...         3    999         0   \n",
              "\n",
              "          poutcome emp_var_rate  cons_price_idx  cons_conf_idx  euribor3m  \\\n",
              "100    nonexistent         -1.8          93.075          -47.1      1.365   \n",
              "180        success         -1.8          92.893          -46.2      1.354   \n",
              "287    nonexistent         -2.9          92.963          -40.8      1.266   \n",
              "404    nonexistent         -1.7          94.215          -40.3      0.870   \n",
              "436    nonexistent         -0.1          93.200          -42.0      4.076   \n",
              "...            ...          ...             ...            ...        ...   \n",
              "40895  nonexistent         -1.8          93.876          -40.0      0.699   \n",
              "40993  nonexistent          1.4          93.444          -36.1      4.965   \n",
              "41051      failure         -3.4          92.379          -29.8      0.797   \n",
              "41078      success         -1.8          93.749          -34.6      0.644   \n",
              "41086  nonexistent         -0.1          93.200          -42.0      4.076   \n",
              "\n",
              "       nr_employed  y  \n",
              "100         5099.1  1  \n",
              "180         5099.1  1  \n",
              "287         5076.2  1  \n",
              "404         4991.6  1  \n",
              "436         5195.8  1  \n",
              "...            ... ..  \n",
              "40895       5008.7  1  \n",
              "40993       5228.1  1  \n",
              "41051       5017.5  1  \n",
              "41078       5008.7  1  \n",
              "41086       5195.8  1  \n",
              "\n",
              "[683 rows x 21 columns]"
            ]
          },
          "metadata": {
            "tags": []
          },
          "execution_count": 17
        }
      ]
    },
    {
      "cell_type": "code",
      "metadata": {
        "id": "pa9f3yY10E44",
        "outputId": "00134d4f-5cd6-4556-b1f1-86ef9f43ae36"
      },
      "source": [
        "# Which month had how many number of subscribers\n",
        "dataset.loc[dataset['y']==1][\"month\"].value_counts()"
      ],
      "execution_count": null,
      "outputs": [
        {
          "output_type": "execute_result",
          "data": {
            "text/plain": [
              "may    886\n",
              "aug    655\n",
              "jul    649\n",
              "jun    559\n",
              "apr    539\n",
              "nov    416\n",
              "oct    315\n",
              "mar    276\n",
              "sep    256\n",
              "dec     89\n",
              "Name: month, dtype: int64"
            ]
          },
          "metadata": {
            "tags": []
          },
          "execution_count": 18
        }
      ]
    },
    {
      "cell_type": "code",
      "metadata": {
        "id": "VYCfWP2t0E45",
        "outputId": "6dc4f07a-3a62-4fc9-c586-2c37dd03bfd2"
      },
      "source": [
        "# The subscription pattern among retired people\n",
        "dataset.loc[dataset['job']=='retired'][\"y\"].value_counts()"
      ],
      "execution_count": null,
      "outputs": [
        {
          "output_type": "execute_result",
          "data": {
            "text/plain": [
              "0    1286\n",
              "1     434\n",
              "Name: y, dtype: int64"
            ]
          },
          "metadata": {
            "tags": []
          },
          "execution_count": 19
        }
      ]
    },
    {
      "cell_type": "code",
      "metadata": {
        "id": "CfmFYtUG0E45",
        "outputId": "0d8e5ca6-56c2-46b5-ef6a-991f119f50e9"
      },
      "source": [
        "# The people who have default == 'yes' (possible outliers)\n",
        "dataset.loc[dataset['default']=='yes']"
      ],
      "execution_count": null,
      "outputs": [
        {
          "output_type": "execute_result",
          "data": {
            "text/html": [
              "<div>\n",
              "<style scoped>\n",
              "    .dataframe tbody tr th:only-of-type {\n",
              "        vertical-align: middle;\n",
              "    }\n",
              "\n",
              "    .dataframe tbody tr th {\n",
              "        vertical-align: top;\n",
              "    }\n",
              "\n",
              "    .dataframe thead th {\n",
              "        text-align: right;\n",
              "    }\n",
              "</style>\n",
              "<table border=\"1\" class=\"dataframe\">\n",
              "  <thead>\n",
              "    <tr style=\"text-align: right;\">\n",
              "      <th></th>\n",
              "      <th>age</th>\n",
              "      <th>job</th>\n",
              "      <th>marital</th>\n",
              "      <th>education</th>\n",
              "      <th>default</th>\n",
              "      <th>housing</th>\n",
              "      <th>loan</th>\n",
              "      <th>contact</th>\n",
              "      <th>month</th>\n",
              "      <th>day_of_week</th>\n",
              "      <th>...</th>\n",
              "      <th>campaign</th>\n",
              "      <th>pdays</th>\n",
              "      <th>previous</th>\n",
              "      <th>poutcome</th>\n",
              "      <th>emp_var_rate</th>\n",
              "      <th>cons_price_idx</th>\n",
              "      <th>cons_conf_idx</th>\n",
              "      <th>euribor3m</th>\n",
              "      <th>nr_employed</th>\n",
              "      <th>y</th>\n",
              "    </tr>\n",
              "  </thead>\n",
              "  <tbody>\n",
              "    <tr>\n",
              "      <th>229</th>\n",
              "      <td>31</td>\n",
              "      <td>unemployed</td>\n",
              "      <td>married</td>\n",
              "      <td>high.school</td>\n",
              "      <td>yes</td>\n",
              "      <td>no</td>\n",
              "      <td>no</td>\n",
              "      <td>cellular</td>\n",
              "      <td>nov</td>\n",
              "      <td>tue</td>\n",
              "      <td>...</td>\n",
              "      <td>2</td>\n",
              "      <td>999</td>\n",
              "      <td>1</td>\n",
              "      <td>failure</td>\n",
              "      <td>-0.1</td>\n",
              "      <td>93.200</td>\n",
              "      <td>-42.0</td>\n",
              "      <td>4.153</td>\n",
              "      <td>5195.8</td>\n",
              "      <td>0</td>\n",
              "    </tr>\n",
              "    <tr>\n",
              "      <th>6934</th>\n",
              "      <td>48</td>\n",
              "      <td>technician</td>\n",
              "      <td>married</td>\n",
              "      <td>professional.course</td>\n",
              "      <td>yes</td>\n",
              "      <td>no</td>\n",
              "      <td>no</td>\n",
              "      <td>cellular</td>\n",
              "      <td>aug</td>\n",
              "      <td>tue</td>\n",
              "      <td>...</td>\n",
              "      <td>1</td>\n",
              "      <td>999</td>\n",
              "      <td>0</td>\n",
              "      <td>nonexistent</td>\n",
              "      <td>1.4</td>\n",
              "      <td>93.444</td>\n",
              "      <td>-36.1</td>\n",
              "      <td>4.963</td>\n",
              "      <td>5228.1</td>\n",
              "      <td>0</td>\n",
              "    </tr>\n",
              "    <tr>\n",
              "      <th>22050</th>\n",
              "      <td>48</td>\n",
              "      <td>technician</td>\n",
              "      <td>married</td>\n",
              "      <td>professional.course</td>\n",
              "      <td>yes</td>\n",
              "      <td>yes</td>\n",
              "      <td>no</td>\n",
              "      <td>cellular</td>\n",
              "      <td>aug</td>\n",
              "      <td>tue</td>\n",
              "      <td>...</td>\n",
              "      <td>1</td>\n",
              "      <td>999</td>\n",
              "      <td>0</td>\n",
              "      <td>nonexistent</td>\n",
              "      <td>1.4</td>\n",
              "      <td>93.444</td>\n",
              "      <td>-36.1</td>\n",
              "      <td>4.963</td>\n",
              "      <td>5228.1</td>\n",
              "      <td>0</td>\n",
              "    </tr>\n",
              "  </tbody>\n",
              "</table>\n",
              "<p>3 rows × 21 columns</p>\n",
              "</div>"
            ],
            "text/plain": [
              "       age         job  marital            education default housing loan  \\\n",
              "229     31  unemployed  married          high.school     yes      no   no   \n",
              "6934    48  technician  married  professional.course     yes      no   no   \n",
              "22050   48  technician  married  professional.course     yes     yes   no   \n",
              "\n",
              "        contact month day_of_week  ...  campaign  pdays  previous  \\\n",
              "229    cellular   nov         tue  ...         2    999         1   \n",
              "6934   cellular   aug         tue  ...         1    999         0   \n",
              "22050  cellular   aug         tue  ...         1    999         0   \n",
              "\n",
              "          poutcome emp_var_rate  cons_price_idx  cons_conf_idx  euribor3m  \\\n",
              "229        failure         -0.1          93.200          -42.0      4.153   \n",
              "6934   nonexistent          1.4          93.444          -36.1      4.963   \n",
              "22050  nonexistent          1.4          93.444          -36.1      4.963   \n",
              "\n",
              "       nr_employed  y  \n",
              "229         5195.8  0  \n",
              "6934        5228.1  0  \n",
              "22050       5228.1  0  \n",
              "\n",
              "[3 rows x 21 columns]"
            ]
          },
          "metadata": {
            "tags": []
          },
          "execution_count": 20
        }
      ]
    },
    {
      "cell_type": "code",
      "metadata": {
        "id": "oE0nZ-Bn0E46",
        "outputId": "4ab0b46d-3b4a-48f7-c086-bb8ae9375083"
      },
      "source": [
        "# Subscribers that have a management or admin job\n",
        "dataset.loc[(dataset['y']==1) & ((dataset[\"job\"]==\"management\")|(dataset[\"job\"]==\"admin.\"))]"
      ],
      "execution_count": null,
      "outputs": [
        {
          "output_type": "execute_result",
          "data": {
            "text/html": [
              "<div>\n",
              "<style scoped>\n",
              "    .dataframe tbody tr th:only-of-type {\n",
              "        vertical-align: middle;\n",
              "    }\n",
              "\n",
              "    .dataframe tbody tr th {\n",
              "        vertical-align: top;\n",
              "    }\n",
              "\n",
              "    .dataframe thead th {\n",
              "        text-align: right;\n",
              "    }\n",
              "</style>\n",
              "<table border=\"1\" class=\"dataframe\">\n",
              "  <thead>\n",
              "    <tr style=\"text-align: right;\">\n",
              "      <th></th>\n",
              "      <th>age</th>\n",
              "      <th>job</th>\n",
              "      <th>marital</th>\n",
              "      <th>education</th>\n",
              "      <th>default</th>\n",
              "      <th>housing</th>\n",
              "      <th>loan</th>\n",
              "      <th>contact</th>\n",
              "      <th>month</th>\n",
              "      <th>day_of_week</th>\n",
              "      <th>...</th>\n",
              "      <th>campaign</th>\n",
              "      <th>pdays</th>\n",
              "      <th>previous</th>\n",
              "      <th>poutcome</th>\n",
              "      <th>emp_var_rate</th>\n",
              "      <th>cons_price_idx</th>\n",
              "      <th>cons_conf_idx</th>\n",
              "      <th>euribor3m</th>\n",
              "      <th>nr_employed</th>\n",
              "      <th>y</th>\n",
              "    </tr>\n",
              "  </thead>\n",
              "  <tbody>\n",
              "    <tr>\n",
              "      <th>2</th>\n",
              "      <td>28</td>\n",
              "      <td>management</td>\n",
              "      <td>single</td>\n",
              "      <td>university.degree</td>\n",
              "      <td>no</td>\n",
              "      <td>yes</td>\n",
              "      <td>no</td>\n",
              "      <td>cellular</td>\n",
              "      <td>jun</td>\n",
              "      <td>thu</td>\n",
              "      <td>...</td>\n",
              "      <td>3</td>\n",
              "      <td>6</td>\n",
              "      <td>2</td>\n",
              "      <td>success</td>\n",
              "      <td>-1.7</td>\n",
              "      <td>94.055</td>\n",
              "      <td>-39.8</td>\n",
              "      <td>0.729</td>\n",
              "      <td>4991.6</td>\n",
              "      <td>1</td>\n",
              "    </tr>\n",
              "    <tr>\n",
              "      <th>8</th>\n",
              "      <td>36</td>\n",
              "      <td>admin.</td>\n",
              "      <td>married</td>\n",
              "      <td>university.degree</td>\n",
              "      <td>no</td>\n",
              "      <td>no</td>\n",
              "      <td>no</td>\n",
              "      <td>cellular</td>\n",
              "      <td>jun</td>\n",
              "      <td>mon</td>\n",
              "      <td>...</td>\n",
              "      <td>1</td>\n",
              "      <td>3</td>\n",
              "      <td>1</td>\n",
              "      <td>success</td>\n",
              "      <td>-2.9</td>\n",
              "      <td>92.963</td>\n",
              "      <td>-40.8</td>\n",
              "      <td>1.266</td>\n",
              "      <td>5076.2</td>\n",
              "      <td>1</td>\n",
              "    </tr>\n",
              "    <tr>\n",
              "      <th>12</th>\n",
              "      <td>55</td>\n",
              "      <td>management</td>\n",
              "      <td>married</td>\n",
              "      <td>university.degree</td>\n",
              "      <td>no</td>\n",
              "      <td>no</td>\n",
              "      <td>no</td>\n",
              "      <td>cellular</td>\n",
              "      <td>aug</td>\n",
              "      <td>mon</td>\n",
              "      <td>...</td>\n",
              "      <td>3</td>\n",
              "      <td>999</td>\n",
              "      <td>0</td>\n",
              "      <td>nonexistent</td>\n",
              "      <td>1.4</td>\n",
              "      <td>93.444</td>\n",
              "      <td>-36.1</td>\n",
              "      <td>4.965</td>\n",
              "      <td>5228.1</td>\n",
              "      <td>1</td>\n",
              "    </tr>\n",
              "    <tr>\n",
              "      <th>17</th>\n",
              "      <td>27</td>\n",
              "      <td>admin.</td>\n",
              "      <td>single</td>\n",
              "      <td>university.degree</td>\n",
              "      <td>no</td>\n",
              "      <td>no</td>\n",
              "      <td>no</td>\n",
              "      <td>telephone</td>\n",
              "      <td>oct</td>\n",
              "      <td>tue</td>\n",
              "      <td>...</td>\n",
              "      <td>1</td>\n",
              "      <td>999</td>\n",
              "      <td>0</td>\n",
              "      <td>nonexistent</td>\n",
              "      <td>-0.1</td>\n",
              "      <td>93.798</td>\n",
              "      <td>-40.4</td>\n",
              "      <td>4.860</td>\n",
              "      <td>5195.8</td>\n",
              "      <td>1</td>\n",
              "    </tr>\n",
              "    <tr>\n",
              "      <th>62</th>\n",
              "      <td>30</td>\n",
              "      <td>management</td>\n",
              "      <td>married</td>\n",
              "      <td>university.degree</td>\n",
              "      <td>no</td>\n",
              "      <td>no</td>\n",
              "      <td>no</td>\n",
              "      <td>cellular</td>\n",
              "      <td>mar</td>\n",
              "      <td>mon</td>\n",
              "      <td>...</td>\n",
              "      <td>1</td>\n",
              "      <td>999</td>\n",
              "      <td>0</td>\n",
              "      <td>nonexistent</td>\n",
              "      <td>-1.8</td>\n",
              "      <td>92.843</td>\n",
              "      <td>-50.0</td>\n",
              "      <td>1.811</td>\n",
              "      <td>5099.1</td>\n",
              "      <td>1</td>\n",
              "    </tr>\n",
              "    <tr>\n",
              "      <th>...</th>\n",
              "      <td>...</td>\n",
              "      <td>...</td>\n",
              "      <td>...</td>\n",
              "      <td>...</td>\n",
              "      <td>...</td>\n",
              "      <td>...</td>\n",
              "      <td>...</td>\n",
              "      <td>...</td>\n",
              "      <td>...</td>\n",
              "      <td>...</td>\n",
              "      <td>...</td>\n",
              "      <td>...</td>\n",
              "      <td>...</td>\n",
              "      <td>...</td>\n",
              "      <td>...</td>\n",
              "      <td>...</td>\n",
              "      <td>...</td>\n",
              "      <td>...</td>\n",
              "      <td>...</td>\n",
              "      <td>...</td>\n",
              "      <td>...</td>\n",
              "    </tr>\n",
              "    <tr>\n",
              "      <th>40985</th>\n",
              "      <td>31</td>\n",
              "      <td>admin.</td>\n",
              "      <td>married</td>\n",
              "      <td>high.school</td>\n",
              "      <td>no</td>\n",
              "      <td>no</td>\n",
              "      <td>no</td>\n",
              "      <td>cellular</td>\n",
              "      <td>jul</td>\n",
              "      <td>thu</td>\n",
              "      <td>...</td>\n",
              "      <td>1</td>\n",
              "      <td>999</td>\n",
              "      <td>0</td>\n",
              "      <td>nonexistent</td>\n",
              "      <td>1.4</td>\n",
              "      <td>93.918</td>\n",
              "      <td>-42.7</td>\n",
              "      <td>4.963</td>\n",
              "      <td>5228.1</td>\n",
              "      <td>1</td>\n",
              "    </tr>\n",
              "    <tr>\n",
              "      <th>40987</th>\n",
              "      <td>56</td>\n",
              "      <td>admin.</td>\n",
              "      <td>married</td>\n",
              "      <td>basic.9y</td>\n",
              "      <td>no</td>\n",
              "      <td>yes</td>\n",
              "      <td>no</td>\n",
              "      <td>cellular</td>\n",
              "      <td>apr</td>\n",
              "      <td>thu</td>\n",
              "      <td>...</td>\n",
              "      <td>2</td>\n",
              "      <td>999</td>\n",
              "      <td>0</td>\n",
              "      <td>nonexistent</td>\n",
              "      <td>-1.8</td>\n",
              "      <td>93.075</td>\n",
              "      <td>-47.1</td>\n",
              "      <td>1.410</td>\n",
              "      <td>5099.1</td>\n",
              "      <td>1</td>\n",
              "    </tr>\n",
              "    <tr>\n",
              "      <th>41049</th>\n",
              "      <td>39</td>\n",
              "      <td>admin.</td>\n",
              "      <td>single</td>\n",
              "      <td>high.school</td>\n",
              "      <td>no</td>\n",
              "      <td>yes</td>\n",
              "      <td>no</td>\n",
              "      <td>cellular</td>\n",
              "      <td>mar</td>\n",
              "      <td>tue</td>\n",
              "      <td>...</td>\n",
              "      <td>3</td>\n",
              "      <td>999</td>\n",
              "      <td>0</td>\n",
              "      <td>nonexistent</td>\n",
              "      <td>-1.8</td>\n",
              "      <td>92.843</td>\n",
              "      <td>-50.0</td>\n",
              "      <td>1.687</td>\n",
              "      <td>5099.1</td>\n",
              "      <td>1</td>\n",
              "    </tr>\n",
              "    <tr>\n",
              "      <th>41051</th>\n",
              "      <td>59</td>\n",
              "      <td>admin.</td>\n",
              "      <td>married</td>\n",
              "      <td>unknown</td>\n",
              "      <td>no</td>\n",
              "      <td>no</td>\n",
              "      <td>yes</td>\n",
              "      <td>cellular</td>\n",
              "      <td>sep</td>\n",
              "      <td>mon</td>\n",
              "      <td>...</td>\n",
              "      <td>4</td>\n",
              "      <td>999</td>\n",
              "      <td>1</td>\n",
              "      <td>failure</td>\n",
              "      <td>-3.4</td>\n",
              "      <td>92.379</td>\n",
              "      <td>-29.8</td>\n",
              "      <td>0.797</td>\n",
              "      <td>5017.5</td>\n",
              "      <td>1</td>\n",
              "    </tr>\n",
              "    <tr>\n",
              "      <th>41125</th>\n",
              "      <td>40</td>\n",
              "      <td>admin.</td>\n",
              "      <td>married</td>\n",
              "      <td>university.degree</td>\n",
              "      <td>no</td>\n",
              "      <td>no</td>\n",
              "      <td>no</td>\n",
              "      <td>cellular</td>\n",
              "      <td>may</td>\n",
              "      <td>mon</td>\n",
              "      <td>...</td>\n",
              "      <td>4</td>\n",
              "      <td>999</td>\n",
              "      <td>0</td>\n",
              "      <td>nonexistent</td>\n",
              "      <td>-1.8</td>\n",
              "      <td>92.893</td>\n",
              "      <td>-46.2</td>\n",
              "      <td>1.354</td>\n",
              "      <td>5099.1</td>\n",
              "      <td>1</td>\n",
              "    </tr>\n",
              "  </tbody>\n",
              "</table>\n",
              "<p>1680 rows × 21 columns</p>\n",
              "</div>"
            ],
            "text/plain": [
              "       age         job  marital          education default housing loan  \\\n",
              "2       28  management   single  university.degree      no     yes   no   \n",
              "8       36      admin.  married  university.degree      no      no   no   \n",
              "12      55  management  married  university.degree      no      no   no   \n",
              "17      27      admin.   single  university.degree      no      no   no   \n",
              "62      30  management  married  university.degree      no      no   no   \n",
              "...    ...         ...      ...                ...     ...     ...  ...   \n",
              "40985   31      admin.  married        high.school      no      no   no   \n",
              "40987   56      admin.  married           basic.9y      no     yes   no   \n",
              "41049   39      admin.   single        high.school      no     yes   no   \n",
              "41051   59      admin.  married            unknown      no      no  yes   \n",
              "41125   40      admin.  married  university.degree      no      no   no   \n",
              "\n",
              "         contact month day_of_week  ...  campaign  pdays  previous  \\\n",
              "2       cellular   jun         thu  ...         3      6         2   \n",
              "8       cellular   jun         mon  ...         1      3         1   \n",
              "12      cellular   aug         mon  ...         3    999         0   \n",
              "17     telephone   oct         tue  ...         1    999         0   \n",
              "62      cellular   mar         mon  ...         1    999         0   \n",
              "...          ...   ...         ...  ...       ...    ...       ...   \n",
              "40985   cellular   jul         thu  ...         1    999         0   \n",
              "40987   cellular   apr         thu  ...         2    999         0   \n",
              "41049   cellular   mar         tue  ...         3    999         0   \n",
              "41051   cellular   sep         mon  ...         4    999         1   \n",
              "41125   cellular   may         mon  ...         4    999         0   \n",
              "\n",
              "          poutcome emp_var_rate  cons_price_idx  cons_conf_idx  euribor3m  \\\n",
              "2          success         -1.7          94.055          -39.8      0.729   \n",
              "8          success         -2.9          92.963          -40.8      1.266   \n",
              "12     nonexistent          1.4          93.444          -36.1      4.965   \n",
              "17     nonexistent         -0.1          93.798          -40.4      4.860   \n",
              "62     nonexistent         -1.8          92.843          -50.0      1.811   \n",
              "...            ...          ...             ...            ...        ...   \n",
              "40985  nonexistent          1.4          93.918          -42.7      4.963   \n",
              "40987  nonexistent         -1.8          93.075          -47.1      1.410   \n",
              "41049  nonexistent         -1.8          92.843          -50.0      1.687   \n",
              "41051      failure         -3.4          92.379          -29.8      0.797   \n",
              "41125  nonexistent         -1.8          92.893          -46.2      1.354   \n",
              "\n",
              "       nr_employed  y  \n",
              "2           4991.6  1  \n",
              "8           5076.2  1  \n",
              "12          5228.1  1  \n",
              "17          5195.8  1  \n",
              "62          5099.1  1  \n",
              "...            ... ..  \n",
              "40985       5228.1  1  \n",
              "40987       5099.1  1  \n",
              "41049       5099.1  1  \n",
              "41051       5017.5  1  \n",
              "41125       5099.1  1  \n",
              "\n",
              "[1680 rows x 21 columns]"
            ]
          },
          "metadata": {
            "tags": []
          },
          "execution_count": 21
        }
      ]
    }
  ]
}